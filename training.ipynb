{
 "cells": [
  {
   "cell_type": "code",
   "execution_count": 1,
   "metadata": {},
   "outputs": [],
   "source": [
    "import os\n",
    "import numpy as np\n",
    "import cv2\n",
    "import matplotlib.pyplot as plt\n",
    "import numpy as np\n",
    "import matplotlib.pyplot as plt\n",
    "\n",
    "import tensorflow as tf\n",
    "from keras.utils import np_utils\n",
    "from keras.models import Sequential\n",
    "from keras.layers import Conv2D, MaxPooling2D\n",
    "from keras.layers import Dense, Dropout, Flatten\n",
    "from keras.preprocessing.image import ImageDataGenerator\n",
    "import tensorflow as tf\n",
    "from sklearn.model_selection import train_test_split\n"
   ]
  },
  {
   "cell_type": "code",
   "execution_count": 2,
   "metadata": {},
   "outputs": [
    {
     "name": "stdout",
     "output_type": "stream",
     "text": [
      "Default GPU Device:/device:GPU:0\n"
     ]
    }
   ],
   "source": [
    "if tf.test.gpu_device_name(): \n",
    "    print('Default GPU Device:{}'.format(tf.test.gpu_device_name()))\n",
    "else:\n",
    "   print(\"Please install GPU version of TF\")\n",
    "\n",
    "os.environ[\"CUDA_VISIBLE_DEVICES\"]=\"0\""
   ]
  },
  {
   "cell_type": "code",
   "execution_count": 3,
   "metadata": {},
   "outputs": [
    {
     "name": "stdout",
     "output_type": "stream",
     "text": [
      "{'battle': 0, 'battle_end': 1, 'battle_load_color': 2, 'battle_load_gray': 3, 'black': 4, 'end': 5, 'end_icon': 6, 'main': 7, 'sanity': 8, 'team': 9}\n"
     ]
    }
   ],
   "source": [
    "data_dir = './data'\n",
    "category_list = sorted(os.listdir(data_dir)) \n",
    "\n",
    "cate2Idx = {}\n",
    "for i in range(len(category_list)):\n",
    "  cate2Idx[category_list[i]] = i\n",
    "print(cate2Idx)"
   ]
  },
  {
   "cell_type": "code",
   "execution_count": 4,
   "metadata": {},
   "outputs": [],
   "source": [
    "def data_preprocessing(data_dir, cate2Idx):\n",
    "  x = []\n",
    "  y = []\n",
    "  for i in range(len(cate2Idx)):\n",
    "    img_names = sorted(os.listdir('{}/{}'.format(data_dir, category_list[i])))\n",
    "    for j in range(len(img_names)):\n",
    "      img = cv2.imread('{}/{}/{}'.format(data_dir,category_list[i],img_names[j]))\n",
    "      img = cv2.resize(img,(384,224))\n",
    "      img = cv2.cvtColor(img, cv2.COLOR_BGR2RGB)\n",
    "      x.append(img)\n",
    "      y.append(i)\n",
    "  x = np.asarray(x)\n",
    "  y = np.asarray(y)\n",
    "  return x, y"
   ]
  },
  {
   "cell_type": "code",
   "execution_count": 5,
   "metadata": {},
   "outputs": [
    {
     "name": "stdout",
     "output_type": "stream",
     "text": [
      "(4795, 224, 384, 3) (4795,)\n"
     ]
    }
   ],
   "source": [
    "x, y = data_preprocessing(data_dir, cate2Idx) \n",
    "print(x.shape, y.shape)                   "
   ]
  },
  {
   "cell_type": "code",
   "execution_count": 6,
   "metadata": {},
   "outputs": [],
   "source": [
    "x, x_test, y, y_test = train_test_split(x, y, test_size=0.2)\n",
    "y = np_utils.to_categorical(y, len(category_list))\n",
    "y_test = np_utils.to_categorical(y_test, len(category_list))"
   ]
  },
  {
   "cell_type": "code",
   "execution_count": 7,
   "metadata": {},
   "outputs": [],
   "source": [
    "def get_datagen():\n",
    "  datagen = ImageDataGenerator(     # no special data generator as the data is very consistent\n",
    "    )\n",
    "  return datagen"
   ]
  },
  {
   "cell_type": "code",
   "execution_count": 8,
   "metadata": {},
   "outputs": [],
   "source": [
    "datagen = get_datagen()   \n",
    "datagen.fit(x)      \n",
    "train_generator = datagen.flow(x, y, batch_size=32)\n"
   ]
  },
  {
   "cell_type": "code",
   "execution_count": 9,
   "metadata": {},
   "outputs": [],
   "source": [
    "def custom_model():\n",
    "  model = Sequential(\n",
    "    [Conv2D(filters=32, kernel_size=(3, 3), activation='relu', input_shape=(224, 384, 3)),  \n",
    "    Conv2D(filters=64, kernel_size=(3, 3), activation='relu'),                            \n",
    "    MaxPooling2D(pool_size=(2, 2)), \n",
    "    Dropout(0.1),    \n",
    "    Conv2D(filters=32, kernel_size=(3, 3), activation='relu'),       \n",
    "    Conv2D(filters=64, kernel_size=(3, 3), activation='relu'),                                                 \n",
    "    MaxPooling2D(pool_size=(2, 2)), \n",
    "    Dropout(0.1),          \n",
    "    Conv2D(filters=32, kernel_size=(3, 3), activation='relu'),       \n",
    "    Conv2D(filters=64, kernel_size=(3, 3), activation='relu'),                                                 \n",
    "    MaxPooling2D(pool_size=(2, 2)), \n",
    "    Dropout(0.1),                                                                                                       \n",
    "    Flatten(),                                                                    \n",
    "    Dense(units=256, activation='relu'),                                               \n",
    "    Dense(units=len(cate2Idx), activation='softmax')]                                          \n",
    "  )\n",
    "\n",
    "  return model"
   ]
  },
  {
   "cell_type": "code",
   "execution_count": 10,
   "metadata": {},
   "outputs": [
    {
     "name": "stdout",
     "output_type": "stream",
     "text": [
      "Epoch 1/10\n",
      "119/119 [==============================] - 23s 129ms/step - loss: 6.9587 - accuracy: 0.6262 - val_loss: 7.9127e-05 - val_accuracy: 1.0000\n",
      "Epoch 2/10\n",
      "119/119 [==============================] - 14s 113ms/step - loss: 6.6958e-05 - accuracy: 1.0000 - val_loss: 2.6008e-05 - val_accuracy: 1.0000\n",
      "Epoch 3/10\n",
      "119/119 [==============================] - 14s 114ms/step - loss: 7.7000e-06 - accuracy: 1.0000 - val_loss: 1.7727e-05 - val_accuracy: 1.0000\n",
      "Epoch 4/10\n",
      "119/119 [==============================] - 14s 114ms/step - loss: 8.5558e-06 - accuracy: 1.0000 - val_loss: 9.3182e-06 - val_accuracy: 1.0000\n",
      "Epoch 5/10\n",
      "119/119 [==============================] - 14s 115ms/step - loss: 4.9617e-06 - accuracy: 1.0000 - val_loss: 5.6036e-06 - val_accuracy: 1.0000\n",
      "Epoch 6/10\n",
      "119/119 [==============================] - 14s 115ms/step - loss: 4.0681e-06 - accuracy: 1.0000 - val_loss: 4.6764e-06 - val_accuracy: 1.0000\n",
      "Epoch 7/10\n",
      "119/119 [==============================] - 14s 115ms/step - loss: 2.0455e-06 - accuracy: 1.0000 - val_loss: 3.4581e-06 - val_accuracy: 1.0000\n",
      "Epoch 8/10\n",
      "119/119 [==============================] - 14s 115ms/step - loss: 1.2384e-06 - accuracy: 1.0000 - val_loss: 3.0380e-06 - val_accuracy: 1.0000\n",
      "Epoch 9/10\n",
      "119/119 [==============================] - 14s 115ms/step - loss: 9.4695e-07 - accuracy: 1.0000 - val_loss: 2.6735e-06 - val_accuracy: 1.0000\n",
      "Epoch 10/10\n",
      "119/119 [==============================] - 14s 115ms/step - loss: 1.0451e-06 - accuracy: 1.0000 - val_loss: 2.3487e-06 - val_accuracy: 1.0000\n",
      "120/120 [==============================] - 4s 35ms/step - loss: 2.5790e-06 - accuracy: 1.0000\n"
     ]
    }
   ],
   "source": [
    "model = custom_model()\n",
    "model.compile(loss=\"categorical_crossentropy\", optimizer=\"adam\", metrics=[\"accuracy\"])\n",
    "history = model.fit(train_generator, validation_data=(x_test, y_test), steps_per_epoch=len(x)/32, epochs=10)\n",
    "score = model.evaluate(x, y, verbose=1)\n",
    "\n",
    "model_name = 'status_detection_model.h5'              \n",
    "model.save(model_name, save_format='h5')  "
   ]
  },
  {
   "cell_type": "code",
   "execution_count": 11,
   "metadata": {},
   "outputs": [
    {
     "data": {
      "image/png": "[encoded data removed]",
      "text/plain": [
       "<Figure size 432x288 with 1 Axes>"
      ]
     },
     "metadata": {
      "needs_background": "light"
     },
     "output_type": "display_data"
    },
    {
     "data": {
      "image/png": "[encoded data removed]",
      "text/plain": [
       "<Figure size 432x288 with 1 Axes>"
      ]
     },
     "metadata": {
      "needs_background": "light"
     },
     "output_type": "display_data"
    }
   ],
   "source": [
    "plt.plot(history.history['accuracy'], color='blue')\n",
    "plt.plot(history.history['val_accuracy'], color='orange')\n",
    "plt.title('Model accuracy')\n",
    "plt.ylabel('Accuracy')\n",
    "plt.xlabel('Epoch')\n",
    "plt.show()\n",
    "\n",
    "plt.plot(history.history['loss'], color='blue')\n",
    "plt.plot(history.history['val_loss'], color='orange')\n",
    "plt.title('Model loss')\n",
    "plt.ylabel('Loss')\n",
    "plt.xlabel('Epoch')\n",
    "plt.show()"
   ]
  },
  {
   "cell_type": "code",
   "execution_count": 25,
   "metadata": {},
   "outputs": [
    {
     "name": "stdout",
     "output_type": "stream",
     "text": [
      "You must install pydot (`pip install pydot`) and install graphviz (see instructions at https://graphviz.gitlab.io/download/) for plot_model/model_to_dot to work.\n"
     ]
    }
   ],
   "source": [
    "from keras.utils.vis_utils import plot_model\n",
    "\n",
    "plot_model(model, to_file='model_plot.png', show_shapes=True, show_layer_names=True)\n"
   ]
  },
  {
   "cell_type": "code",
   "execution_count": 26,
   "metadata": {},
   "outputs": [
    {
     "name": "stdout",
     "output_type": "stream",
     "text": [
      "Model: \"sequential\"\n",
      "_________________________________________________________________\n",
      " Layer (type)                Output Shape              Param #   \n",
      "=================================================================\n",
      " conv2d (Conv2D)             (None, 222, 382, 32)      896       \n",
      "                                                                 \n",
      " conv2d_1 (Conv2D)           (None, 220, 380, 64)      18496     \n",
      "                                                                 \n",
      " max_pooling2d (MaxPooling2D  (None, 110, 190, 64)     0         \n",
      " )                                                               \n",
      "                                                                 \n",
      " dropout (Dropout)           (None, 110, 190, 64)      0         \n",
      "                                                                 \n",
      " conv2d_2 (Conv2D)           (None, 108, 188, 32)      18464     \n",
      "                                                                 \n",
      " conv2d_3 (Conv2D)           (None, 106, 186, 64)      18496     \n",
      "                                                                 \n",
      " max_pooling2d_1 (MaxPooling  (None, 53, 93, 64)       0         \n",
      " 2D)                                                             \n",
      "                                                                 \n",
      " dropout_1 (Dropout)         (None, 53, 93, 64)        0         \n",
      "                                                                 \n",
      " conv2d_4 (Conv2D)           (None, 51, 91, 32)        18464     \n",
      "                                                                 \n",
      " conv2d_5 (Conv2D)           (None, 49, 89, 64)        18496     \n",
      "                                                                 \n",
      " max_pooling2d_2 (MaxPooling  (None, 24, 44, 64)       0         \n",
      " 2D)                                                             \n",
      "                                                                 \n",
      " dropout_2 (Dropout)         (None, 24, 44, 64)        0         \n",
      "                                                                 \n",
      " flatten (Flatten)           (None, 67584)             0         \n",
      "                                                                 \n",
      " dense (Dense)               (None, 256)               17301760  \n",
      "                                                                 \n",
      " dense_1 (Dense)             (None, 10)                2570      \n",
      "                                                                 \n",
      "=================================================================\n",
      "Total params: 17,397,642\n",
      "Trainable params: 17,397,642\n",
      "Non-trainable params: 0\n",
      "_________________________________________________________________\n"
     ]
    }
   ],
   "source": [
    "model.summary()"
   ]
  },
  {
   "cell_type": "code",
   "execution_count": null,
   "metadata": {},
   "outputs": [],
   "source": []
  }
 ],
 "metadata": {
  "kernelspec": {
   "display_name": "Python 3",
   "language": "python",
   "name": "python3"
  },
  "language_info": {
   "codemirror_mode": {
    "name": "ipython",
    "version": 3
   },
   "file_extension": ".py",
   "mimetype": "text/x-python",
   "name": "python",
   "nbconvert_exporter": "python",
   "pygments_lexer": "ipython3",
   "version": "3.8.10"
  },
  "orig_nbformat": 4
 },
 "nbformat": 4,
 "nbformat_minor": 2
}
